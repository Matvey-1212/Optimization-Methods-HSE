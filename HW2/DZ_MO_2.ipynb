{
 "cells": [
  {
   "cell_type": "markdown",
   "id": "c25dc80f",
   "metadata": {},
   "source": [
    
   ]
  },
  {
   "cell_type": "code",
   "execution_count": 1,
   "id": "3a2e8979",
   "metadata": {},
   "outputs": [],
   "source": [
    "import pandas as pd\n",
    "import numpy as np\n",
    "import math\n",
    "import sympy as sym"
   ]
  },
  {
   "cell_type": "code",
   "execution_count": 2,
   "id": "93b4e4fd",
   "metadata": {},
   "outputs": [],
   "source": [
    "x = sym.Symbol('x')\n",
    "y = sym.Symbol('y')\n",
    "alpha = sym.Symbol('alpha')"
   ]
  },
  {
   "cell_type": "code",
   "execution_count": 3,
   "id": "a19677fb",
   "metadata": {},
   "outputs": [],
   "source": [
    "F = x**2 + 4*y**2 + 2*x - 4*y - 2"
   ]
  },
  {
   "cell_type": "markdown",
   "id": "815a55dd",
   "metadata": {},
   "source": [
    "### Вариант 1"
   ]
  },
  {
   "cell_type": "markdown",
   "id": "0b5a78da",
   "metadata": {},
   "source": [
    "### Метод наискорейшего спуска"
   ]
  },
  {
   "cell_type": "markdown",
   "id": "f8d2775c",
   "metadata": {},
   "source": [
    "### $$t_{n+1} = t_n - \\alpha_n*f'(t_n) \\\\ (1)$$"
   ]
  },
  {
   "cell_type": "code",
   "execution_count": 4,
   "id": "e711963d",
   "metadata": {},
   "outputs": [
    {
     "name": "stdout",
     "output_type": "stream",
     "text": [
      "step: 1\n",
      "alpha =  0.130769230769231\n",
      "X: -0.926153846153846\n",
      "Y: 0.495384615384615\n",
      "Eps =  0.147692307692308\n",
      "\n",
      "step: 2\n",
      "alpha =  0.424999999999999\n",
      "X: -0.988923076923077\n",
      "Y: 0.511076923076923\n",
      "Eps =  0.0886153846153848\n",
      "\n",
      "step: 3\n",
      "alpha =  0.130769230769231\n",
      "X: -0.991820118343195\n",
      "Y: 0.499488757396450\n",
      "Eps =  0.0163597633136097\n",
      "\n",
      "step: 4\n",
      "alpha =  0.424999999999998\n",
      "X: -0.998773017751479\n",
      "Y: 0.501226982248521\n",
      "Eps =  0.00981585798816553\n",
      "\n"
     ]
    }
   ],
   "source": [
    "#задаем начальные параметры\n",
    "x_n = -0.9\n",
    "y_n = 0.6\n",
    "eps = 1;\n",
    "n = 0\n",
    "while eps > 0.01:  #пока не выполнится правило остановки\n",
    "    n+=1\n",
    "    print(\"step:\", n)\n",
    "    \n",
    "    #подсчитываем значения производных в точках и подставляем в формулу (1)\n",
    "    f_x = x_n - alpha * F.diff(x).subs([(x, x_n),(y, y_n)])\n",
    "    f_y= y_n - alpha * F.diff(y).subs([(x, x_n),(y, y_n)])\n",
    "    \n",
    "    #подставляем полученые значения новой точки в исходную функцию\n",
    "    F_alpha = F.subs([(x, f_x),(y, f_y)])\n",
    "    \n",
    "    #находим производную по альфа и решаем уравнение, чтобы найти минимум\n",
    "    alpha_n = sym.solve(sym.simplify(F_alpha).diff(alpha))\n",
    "    print(\"alpha = \",alpha_n[0])\n",
    "    \n",
    "    #подставляем найденное значение альфа в уравнение (1)\n",
    "    x_n = f_x.subs(alpha, alpha_n[0])\n",
    "    y_n = f_y.subs(alpha, alpha_n[0])\n",
    "    print(\"X:\",x_n)\n",
    "    print(\"Y:\",y_n)\n",
    "    \n",
    "    #проверяем правило остановки\n",
    "    eps = max(abs(F.diff(x).subs([(x, x_n),(y, y_n)])), abs(F.diff(y).subs([(x, x_n),(y, y_n)])))\n",
    "    print(\"Eps = \",eps)\n",
    "    print()\n"
   ]
  },
  {
   "cell_type": "markdown",
   "id": "0fd8027c",
   "metadata": {},
   "source": [
    "Значения схожи с вичислениями в отчете. Отличаются из-за погрешностей в вычислениях."
   ]
  },
  {
   "cell_type": "markdown",
   "id": "15063046",
   "metadata": {},
   "source": [
    "### Метод сопряженных градиентов"
   ]
  },
  {
   "cell_type": "markdown",
   "id": "9904edfc",
   "metadata": {},
   "source": [
    "### $$t_{n+1} = t_n + \\alpha_n*h(t_n) \\\\ (2)$$"
   ]
  },
  {
   "cell_type": "markdown",
   "id": "4ef19af2",
   "metadata": {},
   "source": [
    "### $$h_n = -f'(t_{n}) + \\beta_{n-1}*h_{n-1} \\\\ (3)$$\n",
    "### $$ h_0 = -f'(t_0) \\\\ (4)$$"
   ]
  },
  {
   "cell_type": "markdown",
   "id": "5bb8b057",
   "metadata": {},
   "source": [
    "### $$ \\beta_n = \\frac{(A*h_n,f'(t_{n+1})}{(A*h_n,h_n)} \\\\ (5)$$"
   ]
  },
  {
   "cell_type": "code",
   "execution_count": 5,
   "id": "cd4a4148",
   "metadata": {},
   "outputs": [
    {
     "name": "stdout",
     "output_type": "stream",
     "text": [
      "step:  1\n",
      "alpha =  0.130769230769231\n",
      "X:  -0.926153846153846\n",
      "Y:  0.495384615384615\n",
      "error =  0.0739902440394525\n",
      "\n",
      "step:  2\n",
      "alpha =  0.477941176470588\n",
      "X:  -1.00000000000000\n",
      "Y:  0.500000000000000\n",
      "error =  0\n",
      "\n"
     ]
    }
   ],
   "source": [
    "#задаем начальные параметры\n",
    "x_n = -0.9\n",
    "y_n = 0.6\n",
    "n = 0\n",
    "A = sym.Matrix([[1,0],[0,4]])\n",
    "h = sym.Matrix([0,0])\n",
    "\n",
    "#достаточно не более N итераций, где N - количество переменных\n",
    "for i in range(2):\n",
    "    n+=1\n",
    "    print(\"step: \", n)\n",
    "    \n",
    "    # если первая итерация то используем формулу (4), иначе (3)\n",
    "    if n == 1:\n",
    "        \n",
    "        # находим h_0\n",
    "        h[0] = - F.diff(x).subs([(x, x_n),(y, y_n)])\n",
    "        h[1] = - F.diff(y).subs([(x, x_n),(y, y_n)])\n",
    "        \n",
    "        # подставляем в уравнение (2)\n",
    "        f_x = x_n + alpha * h[0]\n",
    "        f_y = y_n + alpha * h[1]\n",
    "    else:\n",
    "        #считаем Beta (5)\n",
    "        Beta = (sym.Matrix([F.diff(x).subs([(x, x_n),(y, y_n)]), F.diff(y).subs([(x, x_n),(y, y_n)])]).transpose()*A*h)[0]/ (h.transpose()*A*h)[0]\n",
    "        \n",
    "        # находим h_n\n",
    "        h[0] = - F.diff(x).subs([(x, x_n),(y, y_n)])+Beta * h[0]\n",
    "        h[1] = - F.diff(y).subs([(x, x_n),(y, y_n)])+Beta * h[1]\n",
    "        \n",
    "        # подставляем в уравнение (2)\n",
    "        f_x = x_n + alpha * h[0]\n",
    "        f_y = y_n + alpha * h[1]\n",
    "    \n",
    "    #подставляем полученые значения новой точки в исходную функцию\n",
    "    F_alpha = F.subs([(x, f_x),(y, f_y)])\n",
    "    \n",
    "    #находим производную по альфа и решаем уравнение, чтобы найти минимум\n",
    "    alpha_n = sym.solve(sym.simplify(F_alpha).diff(alpha))\n",
    "    print(\"alpha = \",alpha_n[0])\n",
    "    \n",
    "    #подставляем найденное значение альфа в уравнение (1)\n",
    "    x_n = f_x.subs(alpha, alpha_n[0])\n",
    "    y_n = f_y.subs(alpha, alpha_n[0])\n",
    "    print(\"X: \",x_n)\n",
    "    print(\"Y: \",y_n)\n",
    "    \n",
    "    #находим отклонение от искомого решения: (-1,0.5)\n",
    "    print(\"error = \",((x_n+1.)**2+(y_n-0.5)**2)**0.5)\n",
    "    print()"
   ]
  },
  {
   "cell_type": "markdown",
   "id": "e992e1e3",
   "metadata": {},
   "source": [
    "Значения схожи с вичислениями в отчете. Отличаются из-за погрешностей в вычислениях."
   ]
  }
 ],
 "metadata": {
  "kernelspec": {
   "display_name": "Python 3 (ipykernel)",
   "language": "python",
   "name": "python3"
  },
  "language_info": {
   "codemirror_mode": {
    "name": "ipython",
    "version": 3
   },
   "file_extension": ".py",
   "mimetype": "text/x-python",
   "name": "python",
   "nbconvert_exporter": "python",
   "pygments_lexer": "ipython3",
   "version": "3.8.5"
  }
 },
 "nbformat": 4,
 "nbformat_minor": 5
}
