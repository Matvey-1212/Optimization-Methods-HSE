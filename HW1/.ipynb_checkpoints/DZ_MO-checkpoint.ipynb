{
 "cells": [
  {
   "cell_type": "code",
   "execution_count": 1,
   "metadata": {},
   "outputs": [
    {
     "name": "stdout",
     "output_type": "stream",
     "text": [
      "Requirement already satisfied: numpy in /Users/matveyantonov/opt/anaconda3/lib/python3.8/site-packages (1.19.2)\n",
      "Requirement already satisfied: scipy in /Users/matveyantonov/opt/anaconda3/lib/python3.8/site-packages (1.5.2)\n",
      "Requirement already satisfied: matplotlib in /Users/matveyantonov/opt/anaconda3/lib/python3.8/site-packages (3.3.2)\n",
      "Requirement already satisfied: numba in /Users/matveyantonov/opt/anaconda3/lib/python3.8/site-packages (0.51.2)\n",
      "Requirement already satisfied: sympy in /Users/matveyantonov/opt/anaconda3/lib/python3.8/site-packages (1.6.2)\n",
      "Requirement already satisfied: joblib in /Users/matveyantonov/opt/anaconda3/lib/python3.8/site-packages (0.17.0)\n",
      "Requirement already satisfied: tqdm in /Users/matveyantonov/opt/anaconda3/lib/python3.8/site-packages (4.50.2)\n",
      "Requirement already satisfied: cycler>=0.10 in /Users/matveyantonov/opt/anaconda3/lib/python3.8/site-packages (from matplotlib) (0.10.0)\n",
      "Requirement already satisfied: pillow>=6.2.0 in /Users/matveyantonov/opt/anaconda3/lib/python3.8/site-packages (from matplotlib) (8.0.1)\n",
      "Requirement already satisfied: certifi>=2020.06.20 in /Users/matveyantonov/opt/anaconda3/lib/python3.8/site-packages (from matplotlib) (2020.6.20)\n",
      "Requirement already satisfied: pyparsing!=2.0.4,!=2.1.2,!=2.1.6,>=2.0.3 in /Users/matveyantonov/opt/anaconda3/lib/python3.8/site-packages (from matplotlib) (2.4.7)\n",
      "Requirement already satisfied: python-dateutil>=2.1 in /Users/matveyantonov/opt/anaconda3/lib/python3.8/site-packages (from matplotlib) (2.8.1)\n",
      "Requirement already satisfied: kiwisolver>=1.0.1 in /Users/matveyantonov/opt/anaconda3/lib/python3.8/site-packages (from matplotlib) (1.3.0)\n",
      "Requirement already satisfied: setuptools in /Users/matveyantonov/opt/anaconda3/lib/python3.8/site-packages (from numba) (50.3.1.post20201107)\n",
      "Requirement already satisfied: llvmlite<0.35,>=0.34.0.dev0 in /Users/matveyantonov/opt/anaconda3/lib/python3.8/site-packages (from numba) (0.34.0)\n",
      "Requirement already satisfied: mpmath>=0.19 in /Users/matveyantonov/opt/anaconda3/lib/python3.8/site-packages (from sympy) (1.1.0)\n",
      "Requirement already satisfied: six in /Users/matveyantonov/opt/anaconda3/lib/python3.8/site-packages (from cycler>=0.10->matplotlib) (1.15.0)\n"
     ]
    }
   ],
   "source": [
    "!pip install numpy scipy matplotlib numba sympy joblib tqdm"
   ]
  },
  {
   "cell_type": "code",
   "execution_count": 2,
   "metadata": {},
   "outputs": [],
   "source": [
    "import pandas as pd\n",
    "import numpy as np\n",
    "import math\n",
    "import sympy as sym"
   ]
  },
  {
   "cell_type": "markdown",
   "metadata": {},
   "source": [
    "#### Для задачи были выбраны котировки трех компаний: Мегафон, Embracer Group и Nestle "
   ]
  },
  {
   "cell_type": "code",
   "execution_count": 3,
   "metadata": {},
   "outputs": [],
   "source": [
    "MGFN = pd.read_csv(\"Megafon.csv\")\n",
    "EMBRGR = pd.read_csv(\"Embracer_Group.csv\")\n",
    "NSTL = pd.read_csv(\"Nestle.csv\")"
   ]
  },
  {
   "cell_type": "code",
   "execution_count": 4,
   "metadata": {},
   "outputs": [
    {
     "name": "stdout",
     "output_type": "stream",
     "text": [
      "(1089, 6)\n",
      "(1499, 7)\n",
      "(2345, 7)\n"
     ]
    }
   ],
   "source": [
    "print(MGFN.shape)\n",
    "print(EMBRGR.shape)\n",
    "print(NSTL.shape)"
   ]
  },
  {
   "cell_type": "code",
   "execution_count": 5,
   "metadata": {},
   "outputs": [
    {
     "data": {
      "text/plain": [
       "<bound method NDFrame.head of             Дата    Цена   Откр.   Макс.    Мин.  Изм. %\n",
       "0     29.09.2022   99,95   99,95   99,95   99,95  -0,03%\n",
       "1     28.09.2022   99,98   99,98   99,98   99,98   0,08%\n",
       "2     27.09.2022   99,90   99,90   99,90   99,90   0,59%\n",
       "3     26.09.2022   99,31   99,31   99,31   99,31  -0,49%\n",
       "4     23.09.2022   99,80   99,80   99,80   99,80   0,04%\n",
       "...          ...     ...     ...     ...     ...     ...\n",
       "1084  06.06.2018  102,20  102,20  102,20  102,20  -0,05%\n",
       "1085  05.06.2018  102,25  102,25  102,25  102,25   0,00%\n",
       "1086  04.06.2018  102,25  102,25  102,25  102,25   0,00%\n",
       "1087  01.06.2018  102,25  102,00  102,25  102,00  -1,08%\n",
       "1088  31.05.2018  103,37  103,37  103,37  103,37   1,34%\n",
       "\n",
       "[1089 rows x 6 columns]>"
      ]
     },
     "execution_count": 5,
     "metadata": {},
     "output_type": "execute_result"
    }
   ],
   "source": [
    "MGFN.head"
   ]
  },
  {
   "cell_type": "markdown",
   "metadata": {},
   "source": [
    "#### Возьмем только нужную колонку - ЦЕНА"
   ]
  },
  {
   "cell_type": "code",
   "execution_count": 6,
   "metadata": {},
   "outputs": [],
   "source": [
    "n = 300\n",
    "MGFN_df = pd.DataFrame(MGFN[\"Цена\"])[:n]\n",
    "EMBRGR_df = pd.DataFrame(EMBRGR[\"Цена\"])[:n]\n",
    "NSTL_df = pd.DataFrame(NSTL[\"Цена\"])[:n]"
   ]
  },
  {
   "cell_type": "code",
   "execution_count": 7,
   "metadata": {},
   "outputs": [
    {
     "name": "stdout",
     "output_type": "stream",
     "text": [
      "(300, 1)\n",
      "(300, 1)\n",
      "(300, 1)\n"
     ]
    }
   ],
   "source": [
    "print(MGFN_df.shape)\n",
    "print(EMBRGR_df.shape)\n",
    "print(NSTL_df.shape)"
   ]
  },
  {
   "cell_type": "markdown",
   "metadata": {},
   "source": [
    "#### Данные представлены строчным типом, потому нужно преобразовать его во float. Для этого заменяем запятую на точку"
   ]
  },
  {
   "cell_type": "code",
   "execution_count": 8,
   "metadata": {},
   "outputs": [],
   "source": [
    "MGFN_df['Цена'] = MGFN_df['Цена'].str.replace(',', '.')\n",
    "EMBRGR_df['Цена'] = EMBRGR_df['Цена'].str.replace(',','.')\n",
    "NSTL_df['Цена'] = NSTL_df['Цена'].str.replace(',','.')"
   ]
  },
  {
   "cell_type": "code",
   "execution_count": 9,
   "metadata": {},
   "outputs": [
    {
     "data": {
      "text/html": [
       "<div>\n",
       "<style scoped>\n",
       "    .dataframe tbody tr th:only-of-type {\n",
       "        vertical-align: middle;\n",
       "    }\n",
       "\n",
       "    .dataframe tbody tr th {\n",
       "        vertical-align: top;\n",
       "    }\n",
       "\n",
       "    .dataframe thead th {\n",
       "        text-align: right;\n",
       "    }\n",
       "</style>\n",
       "<table border=\"1\" class=\"dataframe\">\n",
       "  <thead>\n",
       "    <tr style=\"text-align: right;\">\n",
       "      <th></th>\n",
       "      <th>Цена</th>\n",
       "    </tr>\n",
       "  </thead>\n",
       "  <tbody>\n",
       "    <tr>\n",
       "      <th>0</th>\n",
       "      <td>99.95</td>\n",
       "    </tr>\n",
       "    <tr>\n",
       "      <th>1</th>\n",
       "      <td>99.98</td>\n",
       "    </tr>\n",
       "    <tr>\n",
       "      <th>2</th>\n",
       "      <td>99.90</td>\n",
       "    </tr>\n",
       "    <tr>\n",
       "      <th>3</th>\n",
       "      <td>99.31</td>\n",
       "    </tr>\n",
       "    <tr>\n",
       "      <th>4</th>\n",
       "      <td>99.80</td>\n",
       "    </tr>\n",
       "  </tbody>\n",
       "</table>\n",
       "</div>"
      ],
      "text/plain": [
       "    Цена\n",
       "0  99.95\n",
       "1  99.98\n",
       "2  99.90\n",
       "3  99.31\n",
       "4  99.80"
      ]
     },
     "execution_count": 9,
     "metadata": {},
     "output_type": "execute_result"
    }
   ],
   "source": [
    "MGFN_df.head()"
   ]
  },
  {
   "cell_type": "markdown",
   "metadata": {},
   "source": [
    "#### Приводим к float"
   ]
  },
  {
   "cell_type": "code",
   "execution_count": 10,
   "metadata": {},
   "outputs": [],
   "source": [
    "MGFN_df['Цена'] = MGFN_df['Цена'].astype(float)\n",
    "EMBRGR_df['Цена'] = EMBRGR_df['Цена'].astype(float)\n",
    "NSTL_df['Цена'] = NSTL_df['Цена'].astype(float)"
   ]
  },
  {
   "cell_type": "code",
   "execution_count": 11,
   "metadata": {},
   "outputs": [
    {
     "data": {
      "text/plain": [
       "numpy.float64"
      ]
     },
     "execution_count": 11,
     "metadata": {},
     "output_type": "execute_result"
    }
   ],
   "source": [
    "type(MGFN_df['Цена'][0])"
   ]
  },
  {
   "cell_type": "markdown",
   "metadata": {},
   "source": [
    "#### Расчитываем нетто-доходность"
   ]
  },
  {
   "cell_type": "code",
   "execution_count": 12,
   "metadata": {},
   "outputs": [],
   "source": [
    "data = pd.DataFrame()\n",
    "data['MGFN'] = MGFN_df['Цена']/MGFN_df['Цена'].shift() - 1\n",
    "data['EMBRGR'] = EMBRGR_df['Цена']/EMBRGR_df['Цена'].shift() - 1\n",
    "data['NSTL'] = NSTL_df['Цена']/NSTL_df['Цена'].shift() - 1\n",
    "data = data[1:]"
   ]
  },
  {
   "cell_type": "code",
   "execution_count": 13,
   "metadata": {},
   "outputs": [
    {
     "data": {
      "text/html": [
       "<div>\n",
       "<style scoped>\n",
       "    .dataframe tbody tr th:only-of-type {\n",
       "        vertical-align: middle;\n",
       "    }\n",
       "\n",
       "    .dataframe tbody tr th {\n",
       "        vertical-align: top;\n",
       "    }\n",
       "\n",
       "    .dataframe thead th {\n",
       "        text-align: right;\n",
       "    }\n",
       "</style>\n",
       "<table border=\"1\" class=\"dataframe\">\n",
       "  <thead>\n",
       "    <tr style=\"text-align: right;\">\n",
       "      <th></th>\n",
       "      <th>MGFN</th>\n",
       "      <th>EMBRGR</th>\n",
       "      <th>NSTL</th>\n",
       "    </tr>\n",
       "  </thead>\n",
       "  <tbody>\n",
       "    <tr>\n",
       "      <th>1</th>\n",
       "      <td>0.000300</td>\n",
       "      <td>0.016695</td>\n",
       "      <td>-0.002411</td>\n",
       "    </tr>\n",
       "    <tr>\n",
       "      <th>2</th>\n",
       "      <td>-0.000800</td>\n",
       "      <td>-0.005096</td>\n",
       "      <td>0.010039</td>\n",
       "    </tr>\n",
       "    <tr>\n",
       "      <th>3</th>\n",
       "      <td>-0.005906</td>\n",
       "      <td>-0.027509</td>\n",
       "      <td>-0.004602</td>\n",
       "    </tr>\n",
       "    <tr>\n",
       "      <th>4</th>\n",
       "      <td>0.004934</td>\n",
       "      <td>0.073742</td>\n",
       "      <td>0.007581</td>\n",
       "    </tr>\n",
       "    <tr>\n",
       "      <th>5</th>\n",
       "      <td>-0.000401</td>\n",
       "      <td>-0.004724</td>\n",
       "      <td>-0.004955</td>\n",
       "    </tr>\n",
       "  </tbody>\n",
       "</table>\n",
       "</div>"
      ],
      "text/plain": [
       "       MGFN    EMBRGR      NSTL\n",
       "1  0.000300  0.016695 -0.002411\n",
       "2 -0.000800 -0.005096  0.010039\n",
       "3 -0.005906 -0.027509 -0.004602\n",
       "4  0.004934  0.073742  0.007581\n",
       "5 -0.000401 -0.004724 -0.004955"
      ]
     },
     "execution_count": 13,
     "metadata": {},
     "output_type": "execute_result"
    }
   ],
   "source": [
    "data.head()"
   ]
  },
  {
   "cell_type": "code",
   "execution_count": 14,
   "metadata": {},
   "outputs": [],
   "source": [
    "netto_MGFN = data['MGFN']\n",
    "netto_EMBRGR = data['EMBRGR']\n",
    "netto_NSTL = data['NSTL']"
   ]
  },
  {
   "cell_type": "code",
   "execution_count": 15,
   "metadata": {},
   "outputs": [
    {
     "name": "stdout",
     "output_type": "stream",
     "text": [
      "Нетто-доходность: [0.00030015007503747526, -0.0008001600320063362, -0.005905905905905895]\n",
      "Нетто-доходность: [0.016695451928612437, -0.005096262740656776, -0.027509011572756648]\n",
      "Нетто-доходность: [-0.002410979228486654, 0.010039040713887282, -0.004601509295048767]\n"
     ]
    }
   ],
   "source": [
    "print('Нетто-доходность:', list(netto_MGFN[:3]))\n",
    "print('Нетто-доходность:', list(netto_EMBRGR[:3]))\n",
    "print('Нетто-доходность:', list(netto_NSTL[:3]))"
   ]
  },
  {
   "cell_type": "markdown",
   "metadata": {},
   "source": [
    "#### Расчитываем среднее и дисперсию"
   ]
  },
  {
   "cell_type": "code",
   "execution_count": 16,
   "metadata": {},
   "outputs": [],
   "source": [
    "mean_MGFN = data['MGFN'].mean()\n",
    "mean_EMBRGR = data['EMBRGR'].mean()\n",
    "mean_NSTL = data['NSTL'].mean()\n",
    "\n",
    "disp_MGFN = netto_MGFN.var()\n",
    "disp_EMBRGR = netto_EMBRGR.var()\n",
    "disp_NSTL = netto_NSTL.var()"
   ]
  },
  {
   "cell_type": "code",
   "execution_count": 17,
   "metadata": {},
   "outputs": [
    {
     "name": "stdout",
     "output_type": "stream",
     "text": [
      "MGFN mean: 0.00010771465665921932 \n",
      "MGFN dispersion: 0.00015394137441765836\n",
      "\n",
      "EMBRGR mean: 0.002818757119682106 \n",
      "EMBRGR dispersion: 0.0010576663783092\n",
      "\n",
      "NSTL mean: 0.0002961046532385743 \n",
      "NSTL dispersion: 0.00011881974339640245\n",
      "\n"
     ]
    }
   ],
   "source": [
    "print(\"MGFN mean:\", mean_MGFN, \"\\nMGFN dispersion:\", disp_MGFN, end=\"\\n\\n\")\n",
    "print(\"EMBRGR mean:\", mean_EMBRGR, \"\\nEMBRGR dispersion:\", disp_EMBRGR, end=\"\\n\\n\")\n",
    "print(\"NSTL mean:\", mean_NSTL, \"\\nNSTL dispersion:\", disp_NSTL, end=\"\\n\\n\")"
   ]
  },
  {
   "cell_type": "markdown",
   "metadata": {},
   "source": [
    "#### Составляем матрицу ковариации "
   ]
  },
  {
   "cell_type": "code",
   "execution_count": 18,
   "metadata": {},
   "outputs": [
    {
     "name": "stdout",
     "output_type": "stream",
     "text": [
      "[[ 1.53941374e-04 -1.45044822e-05 -1.83914223e-05]\n",
      " [-1.45044822e-05  1.05766638e-03  6.68869035e-05]\n",
      " [-1.83914223e-05  6.68869035e-05  1.18819743e-04]]\n"
     ]
    }
   ],
   "source": [
    "array = np.array([data['MGFN'], data['EMBRGR'], data['NSTL']])\n",
    "covar = np.cov(array)\n",
    "print(covar)"
   ]
  },
  {
   "cell_type": "markdown",
   "metadata": {},
   "source": [
    "### Составим задачу минимизации дисперсии портфеля\n",
    "\n",
    "\n",
    "$$ \\mathbb{D}[x] = \\mathbb{D}\\left[\\sum^{3}_{i=1}r_i x_i \\right] = \\sum^{3}_{i=1}\\mathbb{D}[r_i] x^2_i + \\sum_{1 \\leq i < j \\leq 3}2\\,Cov(r_i, r_j) x_i x_j = C_{11} x^2_1 + C_{22} x^2_2 + C_{33} x^2_3 +  2 C_{12} x_1 x_2 + 2 C_{13} x_1 x_3 + 2 C_{23} x_2 x_3 = (Cx, x)$$\n",
    "\n",
    "Составим задачу минимизации \n",
    "\n",
    "\\begin{equation*}\n",
    "    \\begin{cases}\n",
    "      f_0(x_{1}, x_{2}, x_{3}) = C_{11} x^2_1 + C_{22} x^2_2 + C_{33} x^2_3 +  2 C_{12} x_1 x_2 + 2 C_{13} x_1 x_3 + 2 C_{23} x_2 x_3 \\rightarrow min \\\\\n",
    "      f_1(x_{1}, x_{2}, x_{3}) = \\mu_{1}x_{1} + \\mu_{2}x_{2} + \\mu_{3}x_{3} = \\mu* \\\\\n",
    "      f_2(x_{1}, x_{2}, x_{3}) = x_{1} + x_{2} + x_{3} = 1 \\\\\n",
    "      0.00010771465665921932 < \\mu* < 0.0002961046532385743  \\\\\n",
    "      x_{1} \\geqslant 0 \\\\\n",
    "      x_{2} \\geqslant 0 \\\\\n",
    "      x_{3} \\geqslant 0\n",
    "    \\end{cases}\n",
    "\\end{equation*}\n",
    "\n",
    "Возьмем среднюю доходность за $\\mu$* = 0.0002\n",
    "\n",
    "Тогда лагранжиан системы будет выглядеть:\n",
    "\n",
    "$$L(x_{1}, x_{2}, x_{3}) = \\lambda_{0} f_{0}(x_{1}, x_{2}, x_{3}) + \\lambda_{1} (f_{1}(x_{1}, x_{2}, x_{3}) - 0.0002) + \\lambda_{2} (f_{2}(x_{1}, x_{2}, x_{3}) - 1)$$"
   ]
  },
  {
   "cell_type": "markdown",
   "metadata": {},
   "source": [
    "#### Задаем значения параметров для решения уравнения"
   ]
  },
  {
   "cell_type": "code",
   "execution_count": 29,
   "metadata": {},
   "outputs": [],
   "source": [
    "x_1 = sym.Symbol('x_1', nonnegative=True)\n",
    "x_2 = sym.Symbol('x_2', nonnegative=True)\n",
    "x_3 = sym.Symbol('x_3', nonnegative=True)\n",
    "lambda_1 = sym.Symbol('l_1', nonnegative=True)\n",
    "lambda_2 = sym.Symbol('l_2', nonnegative=True)\n",
    "\n",
    "С11 = covar[0][0]\n",
    "С22 = covar[1][1]\n",
    "С33 = covar[2][2]\n",
    "С12 = covar[0][1]\n",
    "С13 = covar[1][2]\n",
    "С23 = covar[1][2]\n",
    "\n",
    "m_1 = mean_MGFN\n",
    "m_2 = mean_EMBRGR\n",
    "m_3 = mean_NSTL"
   ]
  },
  {
   "cell_type": "code",
   "execution_count": 25,
   "metadata": {},
   "outputs": [],
   "source": [
    "f_0 = С11 * x_1**2 + С22 * x_2**2 + С33 * x_3**2 + 2*С12*x_1*x_2 + 2*С13*x_1*x_3 + 2*С23*x_3*x_2\n",
    "f_1 = m_1 * x_1 + m_2 * x_2 + m_3 * x_3\n",
    "f_2 = x_1 + x_2 + x_3"
   ]
  },
  {
   "cell_type": "code",
   "execution_count": 30,
   "metadata": {},
   "outputs": [
    {
     "name": "stdout",
     "output_type": "stream",
     "text": [
      "[0.302008224087043 - 0.930510126953418*x_3, 0.697991775912957 - 0.0694898730465826*x_3, x_3, 0, 0]\n"
     ]
    }
   ],
   "source": [
    "lagrange_func_for_0 = lambda_1 * (f_1 - 0.002) + lambda_2 * (f_2 - 1)\n",
    "\n",
    "ans_0 = list(list(sym.nonlinsolve([\n",
    "    lagrange_func_for_0.diff(x_1),\n",
    "    lagrange_func_for_0.diff(x_2),\n",
    "    lagrange_func_for_0.diff(x_3),\n",
    "    f_1 - 0.002,\n",
    "    f_2 - 1\n",
    "], [x_1, x_2, x_3, lambda_1, lambda_2]))[0])\n",
    "print(ans_0)"
   ]
  },
  {
   "cell_type": "code",
   "execution_count": 31,
   "metadata": {},
   "outputs": [
    {
     "name": "stdout",
     "output_type": "stream",
     "text": [
      "[0.164618356472290, 0.687731592620063, 0.147650050907647, -0.523515587140486, 5.90582152740109e-6]\n"
     ]
    }
   ],
   "source": [
    "lagrange_func_for_1 = f_0 + lambda_1 * (f_1 - 0.002) + lambda_2 * (f_2 - 1)\n",
    "\n",
    "ans_1 = list(list(sym.nonlinsolve([\n",
    "    lagrange_func_for_1.diff(x_1),\n",
    "    lagrange_func_for_1.diff(x_2),\n",
    "    lagrange_func_for_1.diff(x_3),\n",
    "    f_1 - 0.002,\n",
    "    f_2 - 1\n",
    "], [x_1, x_2, x_3, lambda_1, lambda_2]))[0])\n",
    "print(ans_1)"
   ]
  },
  {
   "cell_type": "code",
   "execution_count": 23,
   "metadata": {},
   "outputs": [
    {
     "data": {
      "text/latex": [
       "$\\displaystyle 0.000100614199098521$"
      ],
      "text/plain": [
       "0.000100614199098521"
      ]
     },
     "execution_count": 23,
     "metadata": {},
     "output_type": "execute_result"
    }
   ],
   "source": [
    "f_0.subs({x_1:ans_1[0],\n",
    "           x_2:ans_1[1],\n",
    "           x_3:ans_1[2]})"
   ]
  },
  {
   "cell_type": "code",
   "execution_count": 32,
   "metadata": {},
   "outputs": [
    {
     "data": {
      "text/plain": [
       "1.0"
      ]
     },
     "execution_count": 32,
     "metadata": {},
     "output_type": "execute_result"
    }
   ],
   "source": [
    "0.164618356472290+0.687731592620063+0.147650050907647"
   ]
  },
  {
   "cell_type": "code",
   "execution_count": null,
   "metadata": {},
   "outputs": [],
   "source": []
  }
 ],
 "metadata": {
  "kernelspec": {
   "display_name": "Python 3",
   "language": "python",
   "name": "python3"
  },
  "language_info": {
   "codemirror_mode": {
    "name": "ipython",
    "version": 3
   },
   "file_extension": ".py",
   "mimetype": "text/x-python",
   "name": "python",
   "nbconvert_exporter": "python",
   "pygments_lexer": "ipython3",
   "version": "3.8.5"
  }
 },
 "nbformat": 4,
 "nbformat_minor": 4
}
